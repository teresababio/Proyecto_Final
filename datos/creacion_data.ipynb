{
 "cells": [
  {
   "cell_type": "code",
   "execution_count": 7,
   "id": "d5651a0b",
   "metadata": {},
   "outputs": [],
   "source": [
    "import cv2\n",
    "import os\n",
    "import pandas as pd\n",
    "import Augmentor\n",
    "import numpy as np\n",
    "import seabo##rn as sns"
   ]
  },
  {
   "cell_type": "markdown",
   "id": "27a41225",
   "metadata": {},
   "source": [
    "# Train"
   ]
  },
  {
   "cell_type": "code",
   "execution_count": 8,
   "id": "2a3f2af9",
   "metadata": {},
   "outputs": [
    {
     "data": {
      "text/plain": [
       "[0, 1, 14, 13, 33, 34]"
      ]
     },
     "execution_count": 8,
     "metadata": {},
     "output_type": "execute_result"
    }
   ],
   "source": [
    "data=[]\n",
    "labels = []\n",
    "list_classes =[ 0, 1, 14, 13, 33 ,34]\n",
    "classes = 43 # len(list_classes)\n",
    "tam_img = 50\n",
    "n_colour = 3\n",
    "cur_path = os.getcwd()\n",
    "list_classes"
   ]
  },
  {
   "cell_type": "code",
   "execution_count": 9,
   "id": "c4cd2984",
   "metadata": {},
   "outputs": [
    {
     "data": {
      "text/plain": [
       "True"
      ]
     },
     "execution_count": 9,
     "metadata": {},
     "output_type": "execute_result"
    }
   ],
   "source": [
    "os.path.exists(cur_path)"
   ]
  },
  {
   "cell_type": "code",
   "execution_count": 10,
   "id": "b64d15a7",
   "metadata": {
    "scrolled": false
   },
   "outputs": [],
   "source": [
    "for i in range(43) : #list_classes:\n",
    "    path = os.path.join(cur_path,'Train',str(i))\n",
    "    images = os.listdir(path)\n",
    "    for img in images:\n",
    "        img2=img\n",
    "        try:\n",
    "            img_path = os.path.join(path, img)\n",
    "            img = cv2.imread(img_path)\n",
    "            img = cv2.cvtColor(img, cv2.COLOR_BGR2RGB)\n",
    "            img = cv2.resize(img, (tam_img,tam_img), interpolation = cv2.INTER_CUBIC)/255\n",
    "            data.append(img)\n",
    "            labels.append(i)\n",
    "        except:\n",
    "            print(f\"Error al leer {img2} {i}\")"
   ]
  },
  {
   "cell_type": "code",
   "execution_count": 11,
   "id": "da32e1a1",
   "metadata": {},
   "outputs": [
    {
     "data": {
      "text/plain": [
       "1.0"
      ]
     },
     "execution_count": 11,
     "metadata": {},
     "output_type": "execute_result"
    }
   ],
   "source": [
    "np.amax(data[0])"
   ]
  },
  {
   "cell_type": "code",
   "execution_count": 12,
   "id": "1cb9bb69",
   "metadata": {},
   "outputs": [],
   "source": [
    "train = pd.DataFrame(columns= [\"label\", \"image\"])\n",
    "train[\"label\"] = labels\n",
    "train[\"image\"] = data"
   ]
  },
  {
   "cell_type": "code",
   "execution_count": 13,
   "id": "34339d68",
   "metadata": {},
   "outputs": [
    {
     "data": {
      "text/html": [
       "<div>\n",
       "<style scoped>\n",
       "    .dataframe tbody tr th:only-of-type {\n",
       "        vertical-align: middle;\n",
       "    }\n",
       "\n",
       "    .dataframe tbody tr th {\n",
       "        vertical-align: top;\n",
       "    }\n",
       "\n",
       "    .dataframe thead th {\n",
       "        text-align: right;\n",
       "    }\n",
       "</style>\n",
       "<table border=\"1\" class=\"dataframe\">\n",
       "  <thead>\n",
       "    <tr style=\"text-align: right;\">\n",
       "      <th></th>\n",
       "      <th>label</th>\n",
       "      <th>image</th>\n",
       "    </tr>\n",
       "  </thead>\n",
       "  <tbody>\n",
       "    <tr>\n",
       "      <th>0</th>\n",
       "      <td>0</td>\n",
       "      <td>[[[0.44313725490196076, 0.4, 0.360784313725490...</td>\n",
       "    </tr>\n",
       "    <tr>\n",
       "      <th>1</th>\n",
       "      <td>0</td>\n",
       "      <td>[[[0.6470588235294118, 0.3176470588235294, 0.3...</td>\n",
       "    </tr>\n",
       "    <tr>\n",
       "      <th>2</th>\n",
       "      <td>0</td>\n",
       "      <td>[[[1.0, 1.0, 1.0], [1.0, 1.0, 1.0], [1.0, 1.0,...</td>\n",
       "    </tr>\n",
       "    <tr>\n",
       "      <th>3</th>\n",
       "      <td>0</td>\n",
       "      <td>[[[0.6745098039215687, 0.1450980392156863, 0.1...</td>\n",
       "    </tr>\n",
       "    <tr>\n",
       "      <th>4</th>\n",
       "      <td>0</td>\n",
       "      <td>[[[0.7019607843137254, 0.6352941176470588, 0.6...</td>\n",
       "    </tr>\n",
       "  </tbody>\n",
       "</table>\n",
       "</div>"
      ],
      "text/plain": [
       "   label                                              image\n",
       "0      0  [[[0.44313725490196076, 0.4, 0.360784313725490...\n",
       "1      0  [[[0.6470588235294118, 0.3176470588235294, 0.3...\n",
       "2      0  [[[1.0, 1.0, 1.0], [1.0, 1.0, 1.0], [1.0, 1.0,...\n",
       "3      0  [[[0.6745098039215687, 0.1450980392156863, 0.1...\n",
       "4      0  [[[0.7019607843137254, 0.6352941176470588, 0.6..."
      ]
     },
     "execution_count": 13,
     "metadata": {},
     "output_type": "execute_result"
    }
   ],
   "source": [
    "train.head()"
   ]
  },
  {
   "cell_type": "code",
   "execution_count": 14,
   "id": "f472213a",
   "metadata": {},
   "outputs": [
    {
     "data": {
      "text/plain": [
       "(39209, 2)"
      ]
     },
     "execution_count": 14,
     "metadata": {},
     "output_type": "execute_result"
    }
   ],
   "source": [
    "train.shape"
   ]
  },
  {
   "cell_type": "code",
   "execution_count": 15,
   "id": "c1a7218e",
   "metadata": {
    "scrolled": false
   },
   "outputs": [
    {
     "data": {
      "text/plain": [
       "2     2250\n",
       "1     2220\n",
       "13    2160\n",
       "12    2100\n",
       "38    2070\n",
       "10    2010\n",
       "4     1980\n",
       "5     1860\n",
       "25    1500\n",
       "9     1470\n",
       "7     1440\n",
       "3     1410\n",
       "8     1410\n",
       "11    1320\n",
       "35    1200\n",
       "18    1200\n",
       "17    1110\n",
       "31     780\n",
       "14     780\n",
       "33     689\n",
       "15     630\n",
       "26     600\n",
       "28     540\n",
       "23     510\n",
       "30     450\n",
       "16     420\n",
       "34     420\n",
       "6      420\n",
       "36     390\n",
       "22     390\n",
       "40     360\n",
       "20     360\n",
       "21     330\n",
       "39     300\n",
       "29     270\n",
       "24     270\n",
       "41     240\n",
       "42     240\n",
       "32     240\n",
       "27     240\n",
       "37     210\n",
       "19     210\n",
       "0      210\n",
       "Name: label, dtype: int64"
      ]
     },
     "execution_count": 15,
     "metadata": {},
     "output_type": "execute_result"
    }
   ],
   "source": [
    "train[\"label\"].value_counts()"
   ]
  },
  {
   "cell_type": "markdown",
   "id": "a09b9bb7",
   "metadata": {},
   "source": [
    "## Data Augmentation"
   ]
  },
  {
   "cell_type": "code",
   "execution_count": null,
   "id": "6997b19c",
   "metadata": {},
   "outputs": [],
   "source": [
    "for label,value in zip(train[\"label\"].value_counts().index, train[\"label\"].value_counts().values) :\n",
    "    if 2000>value:\n",
    "        print(label, value)\n",
    "        path = os.path.join(cur_path,'Train',str(label), 'output')\n",
    "        if not os.path.exists(path):\n",
    "            print(\"Creacion de carpeta output\")\n",
    "            p = Augmentor.Pipeline(os.path.join(cur_path,'Train',str(label)))\n",
    "            p.rotate(probability=0.7, max_left_rotation=10, max_right_rotation=10)\n",
    "            p.zoom(probability=0.3, min_factor=1.1, max_factor=1.6)\n",
    "            p.skew(probability=0.6)\n",
    "            p.sample(1000-value)  \n",
    "        \n",
    " \n",
    "        images = os.listdir(path)\n",
    "        for img in images:\n",
    "            img2=img\n",
    "            try:\n",
    "                img_path = os.path.join(path, img)\n",
    "                img = cv2.imread(img_path)\n",
    "                img = cv2.cvtColor(img, cv2.COLOR_BGR2RGB)\n",
    "                img = cv2.resize(img, (tam_img,tam_img), interpolation = cv2.INTER_CUBIC)/255\n",
    "                data.append(img)\n",
    "                labels.append(label)\n",
    "            except:\n",
    "                print(f\"Error al leer {img2}\")\n",
    "        \n",
    "        \n"
   ]
  },
  {
   "cell_type": "code",
   "execution_count": null,
   "id": "31fe0be6",
   "metadata": {},
   "outputs": [],
   "source": [
    "train = pd.DataFrame(columns= [\"label\", \"image\"])\n",
    "train[\"label\"] = labels\n",
    "train[\"image\"] = data \n",
    "train[\"label\"].value_counts()"
   ]
  },
  {
   "cell_type": "code",
   "execution_count": null,
   "id": "f5cbcdcc",
   "metadata": {},
   "outputs": [],
   "source": [
    "# 13 -> 2\n",
    "# 14 -> 3\n",
    "# 33 -> 4\n",
    "# 34 -> 5\n",
    "\n",
    "train[\"label\"] = train[\"label\"].replace([13],2)\n",
    "train[\"label\"] = train[\"label\"].replace([14],3)\n",
    "train[\"label\"] = train[\"label\"].replace([33],4)\n",
    "train[\"label\"] = train[\"label\"].replace([34],5)"
   ]
  },
  {
   "cell_type": "code",
   "execution_count": null,
   "id": "c92a0e5f",
   "metadata": {},
   "outputs": [],
   "source": [
    "train.shape"
   ]
  },
  {
   "cell_type": "code",
   "execution_count": null,
   "id": "4f6e81b0",
   "metadata": {},
   "outputs": [],
   "source": [
    "data_train = np.array(train[\"image\"].tolist())"
   ]
  },
  {
   "cell_type": "code",
   "execution_count": null,
   "id": "4b926740",
   "metadata": {},
   "outputs": [],
   "source": [
    "data_train.shape"
   ]
  },
  {
   "cell_type": "code",
   "execution_count": null,
   "id": "b30187f9",
   "metadata": {},
   "outputs": [],
   "source": [
    "data_train.shape"
   ]
  },
  {
   "cell_type": "markdown",
   "id": "88567732",
   "metadata": {},
   "source": [
    "# Test"
   ]
  },
  {
   "cell_type": "code",
   "execution_count": null,
   "id": "66a0deae",
   "metadata": {
    "scrolled": true
   },
   "outputs": [],
   "source": [
    "test = pd.read_csv( 'Test.csv')\n",
    "\n",
    "labels = test[\"ClassId\"].values\n",
    "\n",
    "\n",
    "\n",
    "data =[]\n",
    "path = os.path.join(cur_path,'Test')\n",
    "images = os.listdir(path)\n",
    "\n",
    "for img in images:\n",
    "        img2= img\n",
    "        try:\n",
    "            img_path = os.path.join(path, img)\n",
    "            img = cv2.imread(img_path)\n",
    "            img = cv2.cvtColor(img, cv2.COLOR_BGR2RGB)\n",
    "            img = cv2.resize(img, (tam_img,tam_img), interpolation = cv2.INTER_CUBIC)/255\n",
    "            data.append(img)\n",
    "        except:\n",
    "            print(f\"Error al leer {img2}\")\n",
    "\n",
    "\n",
    "\n",
    "\n",
    "\n",
    "\n"
   ]
  },
  {
   "cell_type": "code",
   "execution_count": null,
   "id": "4e027bea",
   "metadata": {},
   "outputs": [],
   "source": [
    "test = pd.DataFrame(columns= [\"label\", \"image\"])\n",
    "test[\"label\"] = labels\n",
    "test[\"image\"] = data"
   ]
  },
  {
   "cell_type": "code",
   "execution_count": null,
   "id": "2b2045a0",
   "metadata": {},
   "outputs": [],
   "source": [
    "test = test[test[\"label\"].isin(list_classes)]"
   ]
  },
  {
   "cell_type": "code",
   "execution_count": null,
   "id": "e98876bf",
   "metadata": {},
   "outputs": [],
   "source": [
    "test[\"label\"].value_counts()"
   ]
  },
  {
   "cell_type": "code",
   "execution_count": null,
   "id": "7640f22b",
   "metadata": {},
   "outputs": [],
   "source": [
    "# 13 -> 2\n",
    "# 14 -> 3\n",
    "# 33 -> 4\n",
    "# 34 -> 5\n",
    "\n",
    "test[\"label\"] = test[\"label\"].replace([13],2)\n",
    "test[\"label\"] = test[\"label\"].replace([14],3)\n",
    "test[\"label\"] = test[\"label\"].replace([33],4)\n",
    "test[\"label\"] = test[\"label\"].replace([34],5)"
   ]
  },
  {
   "cell_type": "code",
   "execution_count": null,
   "id": "19c432d9",
   "metadata": {},
   "outputs": [],
   "source": [
    "data_test = np.array(test[\"image\"].tolist())"
   ]
  },
  {
   "cell_type": "markdown",
   "id": "9163a030",
   "metadata": {},
   "source": [
    "# Modelo "
   ]
  },
  {
   "cell_type": "code",
   "execution_count": null,
   "id": "94025f6e",
   "metadata": {},
   "outputs": [],
   "source": [
    "import tensorflow as tf\n",
    "from tensorflow.keras.applications import VGG19\n",
    "from tensorflow import keras\n",
    "from tensorflow.keras.models import Sequential, load_model\n",
    "from tensorflow.keras.optimizers import Adam\n",
    "from keras.utils import to_categorical"
   ]
  },
  {
   "cell_type": "code",
   "execution_count": null,
   "id": "44426c69",
   "metadata": {},
   "outputs": [],
   "source": [
    "#Avoid OOM errors by setting PGU Memory Consumption Growth\n",
    "#gpus = tf.config.experimental.list_physical_devices('GPU')\n",
    "#for gpu in gpus:\n",
    " #   tf.config.experimental.set_memory_growth(gpu, True)"
   ]
  },
  {
   "cell_type": "code",
   "execution_count": null,
   "id": "db07c1b0",
   "metadata": {},
   "outputs": [],
   "source": [
    "#Converting the labels into one hot encoding\n",
    "y_train = to_categorical(train[\"label\"].values, classes)\n",
    "y_test = to_categorical(test[\"label\"].values, classes)"
   ]
  },
  {
   "cell_type": "markdown",
   "id": "3e58a720",
   "metadata": {},
   "source": [
    "# VGG MODEL"
   ]
  },
  {
   "cell_type": "code",
   "execution_count": null,
   "id": "313af7e8",
   "metadata": {},
   "outputs": [],
   "source": [
    "vgg19 = VGG19(weights='imagenet', include_top=False, input_shape=(tam_img,tam_img,n_colour))\n",
    "vgg19.summary()"
   ]
  },
  {
   "cell_type": "code",
   "execution_count": null,
   "id": "e4f5f133",
   "metadata": {},
   "outputs": [],
   "source": [
    "vgg19.layers[-1].output_shape[1:]"
   ]
  },
  {
   "cell_type": "code",
   "execution_count": null,
   "id": "ff330aaa",
   "metadata": {
    "scrolled": true
   },
   "outputs": [],
   "source": [
    "vgg_model = tf.keras.Sequential([VGG19(weights='imagenet', include_top=False, \n",
    "                                       input_shape=(tam_img,tam_img,n_colour)),\n",
    "                                 keras.layers.BatchNormalization(),\n",
    "                                 keras.layers.Flatten(),\n",
    "                                 keras.layers.Dense(128, activation='sigmoid'),\n",
    "                                 keras.layers.Dense(classes, activation='softmax')\n",
    "                                ])\n",
    "vgg_model.summary()"
   ]
  },
  {
   "cell_type": "code",
   "execution_count": null,
   "id": "f46703d7",
   "metadata": {},
   "outputs": [],
   "source": [
    "alpha=0.001\n",
    "epochs=4\n",
    "optim = keras.optimizers.Adam(learning_rate=alpha)\n",
    "vgg_model.compile(optimizer = optim, loss = 'categorical_crossentropy', metrics = ['accuracy'])"
   ]
  },
  {
   "cell_type": "code",
   "execution_count": null,
   "id": "b0b7ec30",
   "metadata": {},
   "outputs": [],
   "source": [
    "y_test.shape, data_test.shape, y_train.shape, data_test.shape"
   ]
  },
  {
   "cell_type": "code",
   "execution_count": null,
   "id": "69d33da5",
   "metadata": {},
   "outputs": [],
   "source": [
    "type(y_test), type(data_test), type(y_train), type(data_train)"
   ]
  },
  {
   "cell_type": "code",
   "execution_count": null,
   "id": "bd1e907d",
   "metadata": {},
   "outputs": [],
   "source": [
    "#callbacks\n",
    "Stoppincallback = tf.keras.callbacks.EarlyStopping(monitor='accuracy', \n",
    "                                min_delta=0.05, \n",
    "                                patience=2, \n",
    "                                verbose=0, \n",
    "                                mode='auto', \n",
    "                                baseline=None, \n",
    "                                restore_best_weights=True)\n",
    "\n",
    "\n",
    "Checkpointcallback = tf.keras.callbacks.ModelCheckpoint(\"model_checkpoint.h5\", \n",
    "                                     monitor='loss', \n",
    "                                     verbose=0, \n",
    "                                     save_best_only=False,\n",
    "                                     save_weights_only=False, \n",
    "                                     save_freq='epoch')\n",
    "\n",
    "tbCallBack = keras.callbacks.TensorBoard(log_dir=\"Tensorboard\", histogram_freq=0,\n",
    "                                         write_graph=True, write_images=False)\n",
    "\n",
    "CSVcallback = tf.keras.callbacks.CSVLogger(\"model_csv.csv\", \n",
    "                             separator=',', \n",
    "                             append=False)                        "
   ]
  },
  {
   "cell_type": "code",
   "execution_count": null,
   "id": "84b47605",
   "metadata": {},
   "outputs": [],
   "source": [
    "len(data_train)"
   ]
  },
  {
   "cell_type": "code",
   "execution_count": null,
   "id": "6637d236",
   "metadata": {},
   "outputs": [],
   "source": [
    "\"\"\"\n",
    "Epoch 1/10\n",
    "387/387 [==============================] - 2328s 6s/step - loss: 0.9820 - accuracy: 0.5460 - val_loss: 3.3631 - val_accuracy: 0.2933\n",
    "Epoch 2/10\n",
    "387/387 [==============================] - 2118s 5s/step - loss: 0.6672 - accuracy: 0.6781 - val_loss: 4.8172 - val_accuracy: 0.1710\n",
    "Epoch 3/10\n",
    "387/387 [==============================] - 1751s 5s/step - loss: 0.5467 - accuracy: 0.7633 - val_loss: 4.5646 - val_accuracy: 0.2233\n",
    "Epoch 4/10\n",
    "199/387 [==============>...............] - ETA: 12:39 - loss: 0.3542 - accuracy: 0.8660\n",
    "\"\"\""
   ]
  },
  {
   "cell_type": "code",
   "execution_count": null,
   "id": "1a445cd6",
   "metadata": {
    "scrolled": false
   },
   "outputs": [],
   "source": [
    "vgg_model.fit(data_train, y_train,\n",
    "                        epochs=15, callbacks =[Stoppincallback,\n",
    "                                               Checkpointcallback,\n",
    "                                              tbCallBack, CSVcallback], \n",
    "              validation_data=(data_test, y_test)\n",
    "                        )\n"
   ]
  },
  {
   "cell_type": "code",
   "execution_count": null,
   "id": "64c52954",
   "metadata": {},
   "outputs": [],
   "source": [
    "vgg_model.save(\"my_model_vgg_mitad.h5\")"
   ]
  },
  {
   "cell_type": "code",
   "execution_count": null,
   "id": "97554c49",
   "metadata": {},
   "outputs": [],
   "source": [
    "model.save_weights(\"model_vgg_mitadweights.h5\")"
   ]
  },
  {
   "cell_type": "markdown",
   "id": "aa54723f",
   "metadata": {},
   "source": [
    "# Mobilenet"
   ]
  },
  {
   "cell_type": "code",
   "execution_count": null,
   "id": "5e2a1311",
   "metadata": {},
   "outputs": [],
   "source": [
    "from tensorflow.keras.applications import MobileNetV3Small"
   ]
  },
  {
   "cell_type": "code",
   "execution_count": null,
   "id": "1ca90a5b",
   "metadata": {},
   "outputs": [],
   "source": [
    "base_model = MobileNetV3Small(weights=\"imagenet\", \n",
    "                              input_shape=(tam_img,tam_img,n_colour),\n",
    "                              include_top=False)\n",
    "\n",
    "x= base_model.output\n",
    "x= keras.layers.GlobalAveragePooling2D()(x)\n",
    "x= keras.layers.Dense(512, activation ='relu')(x)\n",
    "x= keras.layers.Dense(256, activation ='relu')(x)\n",
    "x= keras.layers.Dense(128, activation ='relu')(x)\n",
    "preds = keras.layers.Dense(classes, activation ='softmax')(x)\n",
    "\n",
    "model = keras.Model(inputs=base_model.input, outputs=preds)"
   ]
  },
  {
   "cell_type": "code",
   "execution_count": null,
   "id": "038af80c",
   "metadata": {},
   "outputs": [],
   "source": [
    "model.summary()"
   ]
  },
  {
   "cell_type": "code",
   "execution_count": null,
   "id": "7e8ecb4e",
   "metadata": {},
   "outputs": [],
   "source": [
    "#for layers in model.layers[:-5]:\n",
    " #   layers.trainable=False"
   ]
  },
  {
   "cell_type": "code",
   "execution_count": null,
   "id": "6693ad31",
   "metadata": {},
   "outputs": [],
   "source": [
    "model.summary()"
   ]
  },
  {
   "cell_type": "code",
   "execution_count": null,
   "id": "0601b7e2",
   "metadata": {},
   "outputs": [],
   "source": [
    "alpha=0.001\n",
    "optim = keras.optimizers.Adam(learning_rate=alpha)\n",
    "model.compile(optimizer = optim, loss = 'categorical_crossentropy', metrics = ['accuracy'])"
   ]
  },
  {
   "cell_type": "code",
   "execution_count": null,
   "id": "e6cd5aa5",
   "metadata": {},
   "outputs": [],
   "source": [
    "#callbacks\n",
    "Stoppincallback = tf.keras.callbacks.EarlyStopping(monitor='accuracy', \n",
    "                                min_delta=0.05, \n",
    "                                patience=2, \n",
    "                                verbose=0, \n",
    "                                mode='auto', \n",
    "                                baseline=None, \n",
    "                                restore_best_weights=True)\n",
    "\n",
    "\n",
    "Checkpointcallback = tf.keras.callbacks.ModelCheckpoint(\"model_mobilenet.h5\", \n",
    "                                     monitor='loss', \n",
    "                                     verbose=0, \n",
    "                                     save_best_only=False,\n",
    "                                     save_weights_only=False, \n",
    "                                     save_freq='epoch')\n",
    "\n",
    "tbCallBack = keras.callbacks.TensorBoard(log_dir=\"Tensorboard\", histogram_freq=0,\n",
    "                                         write_graph=True, write_images=False)\n",
    "\n",
    "CSVcallback = tf.keras.callbacks.CSVLogger(\"model_mobilenet.csv\", \n",
    "                             separator=',', \n",
    "                             append=False)   "
   ]
  },
  {
   "cell_type": "code",
   "execution_count": null,
   "id": "6d150c31",
   "metadata": {},
   "outputs": [],
   "source": [
    "model.fit(data_train, y_train,\n",
    "                        epochs=15, callbacks =[Stoppincallback,\n",
    "                                               Checkpointcallback,\n",
    "                                              tbCallBack, CSVcallback], validation_split=0.30,\n",
    "              #validation_data=(data_test, y_test)\n",
    "                        )"
   ]
  },
  {
   "cell_type": "code",
   "execution_count": null,
   "id": "cb02d0ac",
   "metadata": {},
   "outputs": [],
   "source": []
  }
 ],
 "metadata": {
  "kernelspec": {
   "display_name": "Python 3 (ipykernel)",
   "language": "python",
   "name": "python3"
  },
  "language_info": {
   "codemirror_mode": {
    "name": "ipython",
    "version": 3
   },
   "file_extension": ".py",
   "mimetype": "text/x-python",
   "name": "python",
   "nbconvert_exporter": "python",
   "pygments_lexer": "ipython3",
   "version": "3.9.13"
  }
 },
 "nbformat": 4,
 "nbformat_minor": 5
}
